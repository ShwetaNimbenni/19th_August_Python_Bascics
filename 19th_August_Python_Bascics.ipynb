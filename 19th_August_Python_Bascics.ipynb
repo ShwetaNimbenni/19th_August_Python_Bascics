1. Declare two variables, `x` and `y`, and assign them integer values.
Swap the values of these variables without using any temporary
variable.
x = 10 # added value for x
y = 20 # added value for y

x = x+y # first will do addition of x and y then value of x is : 30
y = x-y # then will minus x and y but current x value is 30 so value of y is : 30 - 20 = 10
x = x-y # then x = 30 - 10 : 20 so now we get value for y=10 and x=20
print("Value of x and Y after swapping:")
print("x =", x)
print("y =", y) 
     
2. Create a program that calculates the area of a rectangle. Take the
length and width as inputs from the user and store them in variables.
Calculate and display the area.
length = float(input("Enter the length of the rectangle: ")) # will add input value as length
width = float(input("Enter the width of the rectangle: ")) # will add input value as width

# Calculating the area
area = length * width # value is : length and width will get area below

# Displaying the area
print("The area of the rectangle is:", area)
3. Write a Python program that converts temperature from Celsius to
Fahrenheit. Take the temperature in Celsius as input, store it in a
variable, convert it to Fahrenheit, and display the result.
celsius = float(input("enter value")) # will enter value to calculate

fahrenheit = (celsius * 9/5) + 32  # calculation (3.5 * 9/5) + 32 then (3.5 * 1.8) + 32 then 6.3 + 32 then result is : 38.3

print(f"{celsius} Celsius is equal to {fahrenheit:.2f} Fahrenheit")
