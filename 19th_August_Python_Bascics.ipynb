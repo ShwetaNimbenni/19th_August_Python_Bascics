{
 "cells": [
  {
   "cell_type": "markdown",
   "id": "71a3a040-352c-4d1d-80d0-0c06c90737b8",
   "metadata": {},
   "source": [
    "1. Declare two variables, `x` and `y`, and assign them integer values.\n",
    "Swap the values of these variables without using any temporary\n",
    "variable."
   ]
  },
  {
   "cell_type": "code",
   "execution_count": 18,
   "id": "d4c45d8a-c620-468c-8856-cd358f7a44dc",
   "metadata": {},
   "outputs": [],
   "source": [
    "x = 10 # added value for x\n",
    "y = 20 # added value for y\n",
    "\n",
    "x = x+y # first will do addition of x and y then value of x is : 30\n",
    "y = x-y # then will minus x and y but current x value is 30 so value of y is : 30 - 20 = 10\n",
    "x = x-y # then x = 30 - 10 : 20 so now we get value for y=10 and x=20"
   ]
  },
  {
   "cell_type": "code",
   "execution_count": 19,
   "id": "52a102f8-6bb8-48c0-bde0-c05b94be072b",
   "metadata": {},
   "outputs": [
    {
     "name": "stdout",
     "output_type": "stream",
     "text": [
      "Value of x and Y after swapping:\n",
      "x = 20\n",
      "y = 10\n"
     ]
    }
   ],
   "source": [
    "print(\"Value of x and Y after swapping:\")\n",
    "print(\"x =\", x)\n",
    "print(\"y =\", y) \n",
    "     "
   ]
  },
  {
   "cell_type": "markdown",
   "id": "cc6eb646-e914-4d5c-8fe6-7dc506b687f5",
   "metadata": {},
   "source": [
    "2. Create a program that calculates the area of a rectangle. Take the\n",
    "length and width as inputs from the user and store them in variables.\n",
    "Calculate and display the area."
   ]
  },
  {
   "cell_type": "code",
   "execution_count": 24,
   "id": "eb0a9c3f-bf27-436e-b91b-210006545e25",
   "metadata": {},
   "outputs": [
    {
     "name": "stdin",
     "output_type": "stream",
     "text": [
      "Enter the length of the rectangle:  2.35\n",
      "Enter the width of the rectangle:  4.56\n"
     ]
    },
    {
     "name": "stdout",
     "output_type": "stream",
     "text": [
      "The area of the rectangle is: 10.716\n"
     ]
    }
   ],
   "source": [
    "length = float(input(\"Enter the length of the rectangle: \")) # will add input value as length\n",
    "width = float(input(\"Enter the width of the rectangle: \")) # will add input value as width\n",
    "\n",
    "# Calculating the area\n",
    "area = length * width # value is : length and width will get area below\n",
    "\n",
    "# Displaying the area\n",
    "print(\"The area of the rectangle is:\", area)"
   ]
  },
  {
   "cell_type": "markdown",
   "id": "84374d5b-56ee-4d61-9305-b0b327b9cf82",
   "metadata": {},
   "source": [
    "3. Write a Python program that converts temperature from Celsius to\n",
    "Fahrenheit. Take the temperature in Celsius as input, store it in a\n",
    "variable, convert it to Fahrenheit, and display the result."
   ]
  },
  {
   "cell_type": "code",
   "execution_count": 25,
   "id": "31aa2ee6-7e3d-4a1a-852d-9b50dc3596d0",
   "metadata": {},
   "outputs": [
    {
     "name": "stdin",
     "output_type": "stream",
     "text": [
      "enter value 3.5\n"
     ]
    },
    {
     "name": "stdout",
     "output_type": "stream",
     "text": [
      "3.5 Celsius is equal to 38.30 Fahrenheit\n"
     ]
    }
   ],
   "source": [
    "celsius = float(input(\"enter value\")) # will enter value to calculate\n",
    "\n",
    "fahrenheit = (celsius * 9/5) + 32  # calculation (3.5 * 9/5) + 32 then (3.5 * 1.8) + 32 then 6.3 + 32 then result is : 38.3\n",
    "\n",
    "print(f\"{celsius} Celsius is equal to {fahrenheit:.2f} Fahrenheit\")"
   ]
  },
  {
   "cell_type": "code",
   "execution_count": null,
   "id": "38bc65ec-dee5-42e2-a5b6-d808c2814b60",
   "metadata": {},
   "outputs": [],
   "source": []
  }
 ],
 "metadata": {
  "kernelspec": {
   "display_name": "Python 3 (ipykernel)",
   "language": "python",
   "name": "python3"
  },
  "language_info": {
   "codemirror_mode": {
    "name": "ipython",
    "version": 3
   },
   "file_extension": ".py",
   "mimetype": "text/x-python",
   "name": "python",
   "nbconvert_exporter": "python",
   "pygments_lexer": "ipython3",
   "version": "3.10.8"
  }
 },
 "nbformat": 4,
 "nbformat_minor": 5
}
